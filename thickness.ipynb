{
 "cells": [
  {
   "cell_type": "code",
   "execution_count": 1,
   "id": "d3273956-89e6-488f-bf11-4e7fde443f82",
   "metadata": {},
   "outputs": [],
   "source": [
    "import math \n",
    "import numpy as np "
   ]
  },
  {
   "cell_type": "code",
   "execution_count": 7,
   "id": "014a13ec-6846-423b-817b-d58dcebd1680",
   "metadata": {},
   "outputs": [],
   "source": [
    "def lt(ri, r , phi):\n",
    "    return 2*(np.sqrt(ri**2 - r**2*(math.cos(phi))**2))\n",
    "\n",
    "def lw(ri,r0,r, phi):\n",
    "    return 2*(np.sqrt(r0**2 - r**2*(math.cos(phi))**2)-np.sqrt(ri**2 - r**2**(math.cos(phi))**2))"
   ]
  },
  {
   "cell_type": "code",
   "execution_count": 8,
   "id": "b5cf82c2-62ec-4ef6-91a8-c44ea0cd9c10",
   "metadata": {},
   "outputs": [
    {
     "name": "stdin",
     "output_type": "stream",
     "text": [
      "The radius of neutron beam:  1\n"
     ]
    }
   ],
   "source": [
    "a=0\n",
    "b=2*np.pi\n",
    "c=0\n",
    "d=int(input(\"The radius of neutron beam: \"))"
   ]
  },
  {
   "cell_type": "code",
   "execution_count": 15,
   "id": "681740bb-5b03-4a41-92c8-2f5a1e3e1238",
   "metadata": {},
   "outputs": [],
   "source": [
    "r=[]\n",
    "phi=[]\n",
    "N=100000\n",
    "for i in range(N):\n",
    "    phi.append(np.random.uniform(a,b))\n",
    "    r.append(np.random.uniform(c,d))"
   ]
  },
  {
   "cell_type": "code",
   "execution_count": 12,
   "id": "10c43bee-d5f9-455f-988d-1d1ea8821b74",
   "metadata": {},
   "outputs": [
    {
     "name": "stdin",
     "output_type": "stream",
     "text": [
      "The radius of traget:  2\n",
      "The radius of target container:  3\n"
     ]
    }
   ],
   "source": [
    "ri=int(input(\"The radius of traget: \"))\n",
    "r0=int(input(\"The radius of target container: \"))"
   ]
  },
  {
   "cell_type": "code",
   "execution_count": 19,
   "id": "81ed7adc-4adb-4a21-9b3b-c813c80fdacd",
   "metadata": {},
   "outputs": [],
   "source": [
    "sum_t = 0\n",
    "sum_w = 0\n",
    "for i in range(N):\n",
    "    sum_t = sum_t + lt(ri,r[i],phi[i])*r[i]\n",
    "    sum_w = sum_w + lw (ri,r0,r[i],phi[i]) *r[i]"
   ]
  },
  {
   "cell_type": "code",
   "execution_count": 20,
   "id": "356e5536-4b5b-45c1-8ae5-65152557817b",
   "metadata": {},
   "outputs": [
    {
     "name": "stdout",
     "output_type": "stream",
     "text": [
      "12.186543522353174\n",
      "6.99827420005379\n"
     ]
    }
   ],
   "source": [
    "integrated_t = (b-a)*(d-c)/N * sum_t\n",
    "integrated_m = (b-a)*(d-c)/N * sum_w\n",
    "average_t = integrated_t/np.pi/d**2\n",
    "average\n",
    "print(integrated_t)\n",
    "print(integrated_m)"
   ]
  },
  {
   "cell_type": "code",
   "execution_count": null,
   "id": "bbc80ea1-2949-49a6-afb0-18171cf1e493",
   "metadata": {},
   "outputs": [],
   "source": []
  }
 ],
 "metadata": {
  "kernelspec": {
   "display_name": "Python 3 (ipykernel)",
   "language": "python",
   "name": "python3"
  },
  "language_info": {
   "codemirror_mode": {
    "name": "ipython",
    "version": 3
   },
   "file_extension": ".py",
   "mimetype": "text/x-python",
   "name": "python",
   "nbconvert_exporter": "python",
   "pygments_lexer": "ipython3",
   "version": "3.11.4"
  }
 },
 "nbformat": 4,
 "nbformat_minor": 5
}
